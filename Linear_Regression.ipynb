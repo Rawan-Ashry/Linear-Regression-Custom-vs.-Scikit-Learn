{
 "cells": [
  {
   "cell_type": "code",
   "execution_count": 1,
   "id": "c9ce593c-722e-4054-b588-759f528b4403",
   "metadata": {},
   "outputs": [],
   "source": [
    "import numpy as np\n",
    "import pandas as pd \n",
    "import matplotlib.pyplot as plt\n",
    "from sklearn.model_selection import train_test_split\n",
    "from sklearn.metrics import mean_squared_error, r2_score\n",
    "from sklearn.linear_model import LinearRegression"
   ]
  },
  {
   "cell_type": "code",
   "execution_count": 2,
   "id": "fdbfbad8-3e60-4801-bb4f-a049dcca58c3",
   "metadata": {},
   "outputs": [],
   "source": [
    "# Custom Linear Regression Class\n",
    "class Linear_Regression():\n",
    "    def __init__(self, learning_rate=0.01, no_of_iterations=1000):\n",
    "        self.learning_rate = learning_rate\n",
    "        self.no_of_iterations = no_of_iterations\n",
    "        \n",
    "    def fit(self, X, Y):\n",
    "        self.m , self.n = X.shape\n",
    "        self.w = np.zeros(self.n)\n",
    "        self.b = 0\n",
    "        self.X = X\n",
    "        self.Y = Y\n",
    "        \n",
    "        self.cost_history = []  # To store cost values\n",
    "        \n",
    "        # Gradient Descent\n",
    "        for i in range(self.no_of_iterations):\n",
    "            self.update_weight()\n",
    "            cost = self.compute_cost()\n",
    "            self.cost_history.append(cost)  # Track cost reduction\n",
    "        \n",
    "    def update_weight(self):\n",
    "        Y_prediction = self.predict(self.X)\n",
    "        dw = -(2 * (self.X.T).dot(self.Y - Y_prediction)) / self.m\n",
    "        db = - 2 * np.sum(self.Y - Y_prediction) / self.m\n",
    "        self.w = self.w - self.learning_rate * dw\n",
    "        self.b = self.b - self.learning_rate * db\n",
    "        \n",
    "    def predict(self, X):\n",
    "        return X.dot(self.w) + self.b\n",
    "    \n",
    "    def compute_cost(self):\n",
    "        Y_prediction = self.predict(self.X)\n",
    "        return np.mean((self.Y - Y_prediction) ** 2)"
   ]
  },
  {
   "cell_type": "code",
   "execution_count": 3,
   "id": "ddf3949d-7ea7-413c-9444-8b532183e51b",
   "metadata": {},
   "outputs": [],
   "source": [
    "df = pd.read_csv(\"salary_data.csv\")"
   ]
  },
  {
   "cell_type": "code",
   "execution_count": 4,
   "id": "26595051-2500-4b21-8c5d-1bc74e677b28",
   "metadata": {},
   "outputs": [
    {
     "data": {
      "text/html": [
       "<div>\n",
       "<style scoped>\n",
       "    .dataframe tbody tr th:only-of-type {\n",
       "        vertical-align: middle;\n",
       "    }\n",
       "\n",
       "    .dataframe tbody tr th {\n",
       "        vertical-align: top;\n",
       "    }\n",
       "\n",
       "    .dataframe thead th {\n",
       "        text-align: right;\n",
       "    }\n",
       "</style>\n",
       "<table border=\"1\" class=\"dataframe\">\n",
       "  <thead>\n",
       "    <tr style=\"text-align: right;\">\n",
       "      <th></th>\n",
       "      <th>YearsExperience</th>\n",
       "      <th>Salary</th>\n",
       "    </tr>\n",
       "  </thead>\n",
       "  <tbody>\n",
       "    <tr>\n",
       "      <th>1</th>\n",
       "      <td>1.3</td>\n",
       "      <td>46205</td>\n",
       "    </tr>\n",
       "    <tr>\n",
       "      <th>11</th>\n",
       "      <td>4.0</td>\n",
       "      <td>55794</td>\n",
       "    </tr>\n",
       "    <tr>\n",
       "      <th>14</th>\n",
       "      <td>4.5</td>\n",
       "      <td>61111</td>\n",
       "    </tr>\n",
       "    <tr>\n",
       "      <th>22</th>\n",
       "      <td>7.9</td>\n",
       "      <td>101302</td>\n",
       "    </tr>\n",
       "    <tr>\n",
       "      <th>15</th>\n",
       "      <td>4.9</td>\n",
       "      <td>67938</td>\n",
       "    </tr>\n",
       "  </tbody>\n",
       "</table>\n",
       "</div>"
      ],
      "text/plain": [
       "    YearsExperience  Salary\n",
       "1               1.3   46205\n",
       "11              4.0   55794\n",
       "14              4.5   61111\n",
       "22              7.9  101302\n",
       "15              4.9   67938"
      ]
     },
     "execution_count": 4,
     "metadata": {},
     "output_type": "execute_result"
    }
   ],
   "source": [
    "df.sample(5)"
   ]
  },
  {
   "cell_type": "code",
   "execution_count": 5,
   "id": "082c0eeb-9c9c-49bb-b13c-bcf8510a1ddd",
   "metadata": {},
   "outputs": [
    {
     "data": {
      "text/html": [
       "<div>\n",
       "<style scoped>\n",
       "    .dataframe tbody tr th:only-of-type {\n",
       "        vertical-align: middle;\n",
       "    }\n",
       "\n",
       "    .dataframe tbody tr th {\n",
       "        vertical-align: top;\n",
       "    }\n",
       "\n",
       "    .dataframe thead th {\n",
       "        text-align: right;\n",
       "    }\n",
       "</style>\n",
       "<table border=\"1\" class=\"dataframe\">\n",
       "  <thead>\n",
       "    <tr style=\"text-align: right;\">\n",
       "      <th></th>\n",
       "      <th>YearsExperience</th>\n",
       "      <th>Salary</th>\n",
       "    </tr>\n",
       "  </thead>\n",
       "  <tbody>\n",
       "    <tr>\n",
       "      <th>0</th>\n",
       "      <td>1.1</td>\n",
       "      <td>39343</td>\n",
       "    </tr>\n",
       "    <tr>\n",
       "      <th>1</th>\n",
       "      <td>1.3</td>\n",
       "      <td>46205</td>\n",
       "    </tr>\n",
       "    <tr>\n",
       "      <th>2</th>\n",
       "      <td>1.5</td>\n",
       "      <td>37731</td>\n",
       "    </tr>\n",
       "    <tr>\n",
       "      <th>3</th>\n",
       "      <td>2.0</td>\n",
       "      <td>43525</td>\n",
       "    </tr>\n",
       "    <tr>\n",
       "      <th>4</th>\n",
       "      <td>2.2</td>\n",
       "      <td>39891</td>\n",
       "    </tr>\n",
       "  </tbody>\n",
       "</table>\n",
       "</div>"
      ],
      "text/plain": [
       "   YearsExperience  Salary\n",
       "0              1.1   39343\n",
       "1              1.3   46205\n",
       "2              1.5   37731\n",
       "3              2.0   43525\n",
       "4              2.2   39891"
      ]
     },
     "execution_count": 5,
     "metadata": {},
     "output_type": "execute_result"
    }
   ],
   "source": [
    "df.head()"
   ]
  },
  {
   "cell_type": "code",
   "execution_count": 6,
   "id": "c95d1bf9-0bcf-41f7-ba2a-d218f0347abc",
   "metadata": {},
   "outputs": [
    {
     "data": {
      "text/plain": [
       "YearsExperience    0\n",
       "Salary             0\n",
       "dtype: int64"
      ]
     },
     "execution_count": 6,
     "metadata": {},
     "output_type": "execute_result"
    }
   ],
   "source": [
    "df.isnull().sum()"
   ]
  },
  {
   "cell_type": "code",
   "execution_count": 7,
   "id": "51739b18-d84c-4057-b330-8e238592a280",
   "metadata": {},
   "outputs": [
    {
     "data": {
      "text/plain": [
       "0"
      ]
     },
     "execution_count": 7,
     "metadata": {},
     "output_type": "execute_result"
    }
   ],
   "source": [
    "df.duplicated().sum()"
   ]
  },
  {
   "cell_type": "code",
   "execution_count": 8,
   "id": "322f2f56-15aa-466b-9f05-dbed76dc24da",
   "metadata": {},
   "outputs": [
    {
     "name": "stdout",
     "output_type": "stream",
     "text": [
      "<class 'pandas.core.frame.DataFrame'>\n",
      "RangeIndex: 30 entries, 0 to 29\n",
      "Data columns (total 2 columns):\n",
      " #   Column           Non-Null Count  Dtype  \n",
      "---  ------           --------------  -----  \n",
      " 0   YearsExperience  30 non-null     float64\n",
      " 1   Salary           30 non-null     int64  \n",
      "dtypes: float64(1), int64(1)\n",
      "memory usage: 612.0 bytes\n"
     ]
    }
   ],
   "source": [
    "df.info()"
   ]
  },
  {
   "cell_type": "code",
   "execution_count": 9,
   "id": "8fb1c2ea-f639-45e2-9187-f68b14c2cb99",
   "metadata": {},
   "outputs": [
    {
     "data": {
      "text/html": [
       "<div>\n",
       "<style scoped>\n",
       "    .dataframe tbody tr th:only-of-type {\n",
       "        vertical-align: middle;\n",
       "    }\n",
       "\n",
       "    .dataframe tbody tr th {\n",
       "        vertical-align: top;\n",
       "    }\n",
       "\n",
       "    .dataframe thead th {\n",
       "        text-align: right;\n",
       "    }\n",
       "</style>\n",
       "<table border=\"1\" class=\"dataframe\">\n",
       "  <thead>\n",
       "    <tr style=\"text-align: right;\">\n",
       "      <th></th>\n",
       "      <th>YearsExperience</th>\n",
       "      <th>Salary</th>\n",
       "    </tr>\n",
       "  </thead>\n",
       "  <tbody>\n",
       "    <tr>\n",
       "      <th>count</th>\n",
       "      <td>30.000000</td>\n",
       "      <td>30.000000</td>\n",
       "    </tr>\n",
       "    <tr>\n",
       "      <th>mean</th>\n",
       "      <td>5.313333</td>\n",
       "      <td>76003.000000</td>\n",
       "    </tr>\n",
       "    <tr>\n",
       "      <th>std</th>\n",
       "      <td>2.837888</td>\n",
       "      <td>27414.429785</td>\n",
       "    </tr>\n",
       "    <tr>\n",
       "      <th>min</th>\n",
       "      <td>1.100000</td>\n",
       "      <td>37731.000000</td>\n",
       "    </tr>\n",
       "    <tr>\n",
       "      <th>25%</th>\n",
       "      <td>3.200000</td>\n",
       "      <td>56720.750000</td>\n",
       "    </tr>\n",
       "    <tr>\n",
       "      <th>50%</th>\n",
       "      <td>4.700000</td>\n",
       "      <td>65237.000000</td>\n",
       "    </tr>\n",
       "    <tr>\n",
       "      <th>75%</th>\n",
       "      <td>7.700000</td>\n",
       "      <td>100544.750000</td>\n",
       "    </tr>\n",
       "    <tr>\n",
       "      <th>max</th>\n",
       "      <td>10.500000</td>\n",
       "      <td>122391.000000</td>\n",
       "    </tr>\n",
       "  </tbody>\n",
       "</table>\n",
       "</div>"
      ],
      "text/plain": [
       "       YearsExperience         Salary\n",
       "count        30.000000      30.000000\n",
       "mean          5.313333   76003.000000\n",
       "std           2.837888   27414.429785\n",
       "min           1.100000   37731.000000\n",
       "25%           3.200000   56720.750000\n",
       "50%           4.700000   65237.000000\n",
       "75%           7.700000  100544.750000\n",
       "max          10.500000  122391.000000"
      ]
     },
     "execution_count": 9,
     "metadata": {},
     "output_type": "execute_result"
    }
   ],
   "source": [
    "df.describe()"
   ]
  },
  {
   "cell_type": "code",
   "execution_count": 10,
   "id": "0b6470ed-6299-41b2-ae43-d686681d1ab5",
   "metadata": {},
   "outputs": [],
   "source": [
    "X = df.iloc[:, :-1].values  \n",
    "Y = df.iloc[:, -1].values"
   ]
  },
  {
   "cell_type": "code",
   "execution_count": 11,
   "id": "f19ab05d-8533-4048-a882-87611b0dbba1",
   "metadata": {},
   "outputs": [
    {
     "data": {
      "text/plain": [
       "array([[ 1.1],\n",
       "       [ 1.3],\n",
       "       [ 1.5],\n",
       "       [ 2. ],\n",
       "       [ 2.2],\n",
       "       [ 2.9],\n",
       "       [ 3. ],\n",
       "       [ 3.2],\n",
       "       [ 3.2],\n",
       "       [ 3.7],\n",
       "       [ 3.9],\n",
       "       [ 4. ],\n",
       "       [ 4. ],\n",
       "       [ 4.1],\n",
       "       [ 4.5],\n",
       "       [ 4.9],\n",
       "       [ 5.1],\n",
       "       [ 5.3],\n",
       "       [ 5.9],\n",
       "       [ 6. ],\n",
       "       [ 6.8],\n",
       "       [ 7.1],\n",
       "       [ 7.9],\n",
       "       [ 8.2],\n",
       "       [ 8.7],\n",
       "       [ 9. ],\n",
       "       [ 9.5],\n",
       "       [ 9.6],\n",
       "       [10.3],\n",
       "       [10.5]])"
      ]
     },
     "execution_count": 11,
     "metadata": {},
     "output_type": "execute_result"
    }
   ],
   "source": [
    "X"
   ]
  },
  {
   "cell_type": "code",
   "execution_count": 12,
   "id": "06540490-9a8a-4ba5-8b44-89592d4ac911",
   "metadata": {},
   "outputs": [
    {
     "data": {
      "text/plain": [
       "array([ 39343,  46205,  37731,  43525,  39891,  56642,  60150,  54445,\n",
       "        64445,  57189,  63218,  55794,  56957,  57081,  61111,  67938,\n",
       "        66029,  83088,  81363,  93940,  91738,  98273, 101302, 113812,\n",
       "       109431, 105582, 116969, 112635, 122391, 121872], dtype=int64)"
      ]
     },
     "execution_count": 12,
     "metadata": {},
     "output_type": "execute_result"
    }
   ],
   "source": [
    "Y"
   ]
  },
  {
   "cell_type": "code",
   "execution_count": 13,
   "id": "c78dddf9-7b56-4bc7-85a6-f473497dc06a",
   "metadata": {},
   "outputs": [],
   "source": [
    "X_train, X_test, Y_train, Y_test = train_test_split(X, Y, test_size=0.2, random_state=42)\n"
   ]
  },
  {
   "cell_type": "code",
   "execution_count": 14,
   "id": "2d2d50d1-66bf-41ef-8c01-359d7ba62332",
   "metadata": {},
   "outputs": [],
   "source": [
    "# Training Custom Model\n",
    "model = Linear_Regression(learning_rate=0.01, no_of_iterations=1000)\n",
    "model.fit(X_train, Y_train)\n"
   ]
  },
  {
   "cell_type": "code",
   "execution_count": 15,
   "id": "ecb64c8d-9759-45af-ad3b-9a7e98f640e8",
   "metadata": {},
   "outputs": [
    {
     "name": "stdout",
     "output_type": "stream",
     "text": [
      "weight =  9457.85255556112\n",
      "bias =  25092.06190300327\n"
     ]
    }
   ],
   "source": [
    "print(\"weight = \", model.w[0])\n",
    "print(\"bias = \", model.b)"
   ]
  },
  {
   "cell_type": "code",
   "execution_count": 16,
   "id": "aa83c010-11c5-451d-8851-cb463d95edaf",
   "metadata": {},
   "outputs": [
    {
     "data": {
      "text/plain": [
       "array([115887.44643639,  71435.53942525, 102646.4528586 ,  75218.68044748,\n",
       "        55357.1900808 ,  60086.11635858])"
      ]
     },
     "execution_count": 16,
     "metadata": {},
     "output_type": "execute_result"
    }
   ],
   "source": [
    "# Predictions\n",
    "Y_pred_custom = model.predict(X_test)\n",
    "Y_pred_custom"
   ]
  },
  {
   "cell_type": "code",
   "execution_count": 17,
   "id": "4b90aaee-4dad-4299-b97d-18e61c1e9ff6",
   "metadata": {},
   "outputs": [
    {
     "name": "stdout",
     "output_type": "stream",
     "text": [
      "Custom Linear Regression - MSE: 50064732.56031778, R²: 0.9019868243097158\n"
     ]
    }
   ],
   "source": [
    "# Evaluate Model\n",
    "mse_custom = mean_squared_error(Y_test, Y_pred_custom)\n",
    "r2_custom = r2_score(Y_test, Y_pred_custom)\n",
    "\n",
    "print(f\"Custom Linear Regression - MSE: {mse_custom}, R²: {r2_custom}\")\n"
   ]
  },
  {
   "cell_type": "code",
   "execution_count": 18,
   "id": "73eb017a-537b-4726-8ef8-aa72743fdab7",
   "metadata": {},
   "outputs": [
    {
     "data": {
      "image/png": "[encoded data removed]",
      "text/plain": [
       "<Figure size 640x480 with 1 Axes>"
      ]
     },
     "metadata": {},
     "output_type": "display_data"
    }
   ],
   "source": [
    "# Plot Cost Function Convergence\n",
    "plt.plot(model.cost_history)\n",
    "plt.xlabel(\"Iterations\")\n",
    "plt.ylabel(\"Cost\")\n",
    "plt.title(\"Cost Function Convergence\")\n",
    "plt.show()"
   ]
  },
  {
   "cell_type": "code",
   "execution_count": 19,
   "id": "159a79f8-0f1c-4f9b-96e3-20fa54b0d8ca",
   "metadata": {},
   "outputs": [],
   "source": [
    "# Comparison with Scikit-Learn Model\n",
    "sk_model = LinearRegression()\n",
    "sk_model.fit(X_train, Y_train)\n",
    "Y_pred_sklearn = sk_model.predict(X_test)"
   ]
  },
  {
   "cell_type": "code",
   "execution_count": 20,
   "id": "771c4047-2817-4c1f-ac98-01f99db82d89",
   "metadata": {},
   "outputs": [
    {
     "name": "stdout",
     "output_type": "stream",
     "text": [
      "Scikit-Learn Linear Regression - MSE: 49830096.85590839, R²: 0.9024461774180497\n"
     ]
    }
   ],
   "source": [
    "mse_sklearn = mean_squared_error(Y_test, Y_pred_sklearn)\n",
    "r2_sklearn = r2_score(Y_test, Y_pred_sklearn)\n",
    "\n",
    "print(f\"Scikit-Learn Linear Regression - MSE: {mse_sklearn}, R²: {r2_sklearn}\")\n"
   ]
  },
  {
   "cell_type": "code",
   "execution_count": 21,
   "id": "a4125704-9c10-44c7-8ea6-8371307a320c",
   "metadata": {},
   "outputs": [
    {
     "data": {
      "image/png": "[encoded data removed]",
      "text/plain": [
       "<Figure size 640x480 with 1 Axes>"
      ]
     },
     "metadata": {},
     "output_type": "display_data"
    }
   ],
   "source": [
    "# Plot Regression Line\n",
    "plt.scatter(X_test, Y_test, color=\"blue\", label=\"Actual Data\")\n",
    "plt.plot(X_test, Y_pred_custom, color=\"red\", label=\"Custom Model\")\n",
    "plt.plot(X_test, Y_pred_sklearn, color=\"green\", linestyle=\"dashed\", label=\"Scikit-Learn\")\n",
    "plt.xlabel(\"X Values\")\n",
    "plt.ylabel(\"Y Values\")\n",
    "plt.title(\"Regression Line Comparison\")\n",
    "plt.legend()\n",
    "plt.show()"
   ]
  },
  {
   "cell_type": "markdown",
   "id": "0c800c8c-408b-4097-8376-94e79c4d68ea",
   "metadata": {},
   "source": [
    "----"
   ]
  },
  {
   "cell_type": "code",
   "execution_count": 22,
   "id": "ae9aa8da-504d-460b-a10e-1d0986ea46e9",
   "metadata": {},
   "outputs": [
    {
     "name": "stdout",
     "output_type": "stream",
     "text": [
      "\n",
      "🔹🔹🔹 Model Performance Comparison 🔹🔹🔹\n",
      "\n",
      "▶ Mean Squared Error (MSE):\n",
      "   - Custom Model: 50064732.5603\n",
      "   - Scikit-Learn Model: 49830096.8559\n",
      "   🔴 Scikit-Learn performs better with lower error.\n",
      "\n",
      "▶ R² Score:\n",
      "   - Custom Model: 0.9020\n",
      "   - Scikit-Learn Model: 0.9024\n",
      "   🔴 Scikit-Learn fits the data better.\n",
      "\n",
      "🔹 Conclusion:\n",
      "   🔴 The Scikit-Learn model is more optimized and fits better.\n"
     ]
    }
   ],
   "source": [
    "# Compare Performance of Custom Model vs. Scikit-Learn Model\n",
    "def compare_models(mse_custom, mse_sklearn, r2_custom, r2_sklearn):\n",
    "    print(\"\\n🔹🔹🔹 Model Performance Comparison 🔹🔹🔹\\n\")\n",
    "\n",
    "    # Compare MSE\n",
    "    print(f\"▶ Mean Squared Error (MSE):\")\n",
    "    print(f\"   - Custom Model: {mse_custom:.4f}\")\n",
    "    print(f\"   - Scikit-Learn Model: {mse_sklearn:.4f}\")\n",
    "    \n",
    "    if mse_custom > mse_sklearn:\n",
    "        print(\"   🔴 Scikit-Learn performs better with lower error.\")\n",
    "    elif mse_custom < mse_sklearn:\n",
    "        print(\"   🟢 Custom model has lower error, performing well!\")\n",
    "    else:\n",
    "        print(\"   🔵 Both models have the same MSE.\")\n",
    "\n",
    "    print(\"\\n▶ R² Score:\")\n",
    "    print(f\"   - Custom Model: {r2_custom:.4f}\")\n",
    "    print(f\"   - Scikit-Learn Model: {r2_sklearn:.4f}\")\n",
    "    \n",
    "    # Compare R² Score\n",
    "    if r2_custom > r2_sklearn:\n",
    "        print(\"   🟢 Custom model explains more variance (possible overfitting).\")\n",
    "    elif r2_custom < r2_sklearn:\n",
    "        print(\"   🔴 Scikit-Learn fits the data better.\")\n",
    "    else:\n",
    "        print(\"   🔵 Both models perform equally well.\")\n",
    "\n",
    "    print(\"\\n🔹 Conclusion:\")\n",
    "    if mse_custom > mse_sklearn and r2_custom < r2_sklearn:\n",
    "        print(\"   🔴 The Scikit-Learn model is more optimized and fits better.\")\n",
    "    elif mse_custom < mse_sklearn and r2_custom > r2_sklearn:\n",
    "        print(\"   🟢 The custom model is working well and may even be better!\")\n",
    "    else:\n",
    "        print(\"   🔵 Both models perform similarly. Custom implementation is correct.\")\n",
    "\n",
    "# Call the function with actual results\n",
    "compare_models(mse_custom, mse_sklearn, r2_custom, r2_sklearn)\n"
   ]
  },
  {
   "cell_type": "markdown",
   "id": "b0d8acd6-445b-4340-9977-1597d746cf02",
   "metadata": {},
   "source": [
    "----"
   ]
  },
  {
   "cell_type": "markdown",
   "id": "4e07f867-1a3b-48b3-8e89-95aaae276405",
   "metadata": {},
   "source": [
    "💡 ***Insight***: Since both models have an R² score above 0.90, they explain most of the variance in the data. The small difference suggests that both models are highly effective, with the Scikit-Learn model being slightly more optimized.\n",
    "\n"
   ]
  },
  {
   "cell_type": "markdown",
   "id": "2762634c-2823-403c-900a-6fc3aa7041dd",
   "metadata": {},
   "source": [
    "🔹 ***Conclusion***:\n",
    "🔴 Scikit-Learn model is more optimized and fits slightly better.\n",
    "📌 However, the difference is minimal, proving that our custom implementation is correct and effective! 🚀"
   ]
  },
  {
   "cell_type": "code",
   "execution_count": null,
   "id": "8dd3e20d-7133-4251-8fc9-15821222d012",
   "metadata": {},
   "outputs": [],
   "source": []
  }
 ],
 "metadata": {
  "kernelspec": {
   "display_name": "Python 3 (ipykernel)",
   "language": "python",
   "name": "python3"
  },
  "language_info": {
   "codemirror_mode": {
    "name": "ipython",
    "version": 3
   },
   "file_extension": ".py",
   "mimetype": "text/x-python",
   "name": "python",
   "nbconvert_exporter": "python",
   "pygments_lexer": "ipython3",
   "version": "3.12.6"
  }
 },
 "nbformat": 4,
 "nbformat_minor": 5
}
